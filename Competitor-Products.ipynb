{
 "cells": [
  {
   "cell_type": "markdown",
   "metadata": {},
   "source": [
    "## Product Sentiment Data\n",
    "\n",
    "Data (public domain): https://data.world/crowdflower/brands-and-product-emotions\n",
    "\n",
    "Notebook code based on IMDB notebook from bert-sklearn/other_examples"
   ]
  },
  {
   "cell_type": "code",
   "execution_count": 3,
   "metadata": {},
   "outputs": [
    {
     "name": "stdout",
     "output_type": "stream",
     "text": [
      "/Users/joep/Desktop/NashAnalytics2019/NAS2019\n"
     ]
    }
   ],
   "source": [
    "import numpy as np\n",
    "import pandas as pd\n",
    "import os\n",
    "import sys\n",
    "import csv\n",
    "import re\n",
    "from sklearn import metrics\n",
    "from sklearn.metrics import classification_report\n",
    "from sklearn.utils import shuffle\n",
    "from ftfy import fix_text\n",
    " \n",
    "from bert_sklearn import BertClassifier\n",
    "from bert_sklearn import load_model\n",
    "\n",
    "print(os.getcwd())\n",
    "\n",
    "DATAFILE = \"./data/judge-cleaned-up.csv\""
   ]
  },
  {
   "cell_type": "code",
   "execution_count": 4,
   "metadata": {},
   "outputs": [
    {
     "data": {
      "text/html": [
       "<div>\n",
       "<style scoped>\n",
       "    .dataframe tbody tr th:only-of-type {\n",
       "        vertical-align: middle;\n",
       "    }\n",
       "\n",
       "    .dataframe tbody tr th {\n",
       "        vertical-align: top;\n",
       "    }\n",
       "\n",
       "    .dataframe thead th {\n",
       "        text-align: right;\n",
       "    }\n",
       "</style>\n",
       "<table border=\"1\" class=\"dataframe\">\n",
       "  <thead>\n",
       "    <tr style=\"text-align: right;\">\n",
       "      <th></th>\n",
       "      <th>tweet_text</th>\n",
       "      <th>emotion_in_tweet_is_directed_at</th>\n",
       "      <th>is_there_an_emotion_directed_at_a_brand_or_product</th>\n",
       "    </tr>\n",
       "  </thead>\n",
       "  <tbody>\n",
       "    <tr>\n",
       "      <th>0</th>\n",
       "      <td>.@wesley83 I have a 3G iPhone. After 3 hrs twe...</td>\n",
       "      <td>iPhone</td>\n",
       "      <td>Negative emotion</td>\n",
       "    </tr>\n",
       "    <tr>\n",
       "      <th>1</th>\n",
       "      <td>@jessedee Know about @fludapp ? Awesome iPad/i...</td>\n",
       "      <td>iPad or iPhone App</td>\n",
       "      <td>Positive emotion</td>\n",
       "    </tr>\n",
       "    <tr>\n",
       "      <th>2</th>\n",
       "      <td>@swonderlin Can not wait for #iPad 2 also. The...</td>\n",
       "      <td>iPad</td>\n",
       "      <td>Positive emotion</td>\n",
       "    </tr>\n",
       "    <tr>\n",
       "      <th>3</th>\n",
       "      <td>@sxsw I hope this year's festival isn't as cra...</td>\n",
       "      <td>iPad or iPhone App</td>\n",
       "      <td>Negative emotion</td>\n",
       "    </tr>\n",
       "    <tr>\n",
       "      <th>4</th>\n",
       "      <td>@sxtxstate great stuff on Fri #SXSW: Marissa M...</td>\n",
       "      <td>Google</td>\n",
       "      <td>Positive emotion</td>\n",
       "    </tr>\n",
       "    <tr>\n",
       "      <th>5</th>\n",
       "      <td>@teachntech00 New iPad Apps For #SpeechTherapy...</td>\n",
       "      <td>NaN</td>\n",
       "      <td>No emotion toward brand or product</td>\n",
       "    </tr>\n",
       "    <tr>\n",
       "      <th>6</th>\n",
       "      <td></td>\n",
       "      <td>NaN</td>\n",
       "      <td>No emotion toward brand or product</td>\n",
       "    </tr>\n",
       "    <tr>\n",
       "      <th>7</th>\n",
       "      <td>#SXSW is just starting, #CTIA is around the co...</td>\n",
       "      <td>Android</td>\n",
       "      <td>Positive emotion</td>\n",
       "    </tr>\n",
       "    <tr>\n",
       "      <th>8</th>\n",
       "      <td>Beautifully smart and simple idea RT @madebyma...</td>\n",
       "      <td>iPad or iPhone App</td>\n",
       "      <td>Positive emotion</td>\n",
       "    </tr>\n",
       "    <tr>\n",
       "      <th>9</th>\n",
       "      <td>Counting down the days to #sxsw plus strong Ca...</td>\n",
       "      <td>Apple</td>\n",
       "      <td>Positive emotion</td>\n",
       "    </tr>\n",
       "  </tbody>\n",
       "</table>\n",
       "</div>"
      ],
      "text/plain": [
       "                                          tweet_text  \\\n",
       "0  .@wesley83 I have a 3G iPhone. After 3 hrs twe...   \n",
       "1  @jessedee Know about @fludapp ? Awesome iPad/i...   \n",
       "2  @swonderlin Can not wait for #iPad 2 also. The...   \n",
       "3  @sxsw I hope this year's festival isn't as cra...   \n",
       "4  @sxtxstate great stuff on Fri #SXSW: Marissa M...   \n",
       "5  @teachntech00 New iPad Apps For #SpeechTherapy...   \n",
       "6                                                      \n",
       "7  #SXSW is just starting, #CTIA is around the co...   \n",
       "8  Beautifully smart and simple idea RT @madebyma...   \n",
       "9  Counting down the days to #sxsw plus strong Ca...   \n",
       "\n",
       "  emotion_in_tweet_is_directed_at  \\\n",
       "0                          iPhone   \n",
       "1              iPad or iPhone App   \n",
       "2                            iPad   \n",
       "3              iPad or iPhone App   \n",
       "4                          Google   \n",
       "5                             NaN   \n",
       "6                             NaN   \n",
       "7                         Android   \n",
       "8              iPad or iPhone App   \n",
       "9                           Apple   \n",
       "\n",
       "  is_there_an_emotion_directed_at_a_brand_or_product  \n",
       "0                                   Negative emotion  \n",
       "1                                   Positive emotion  \n",
       "2                                   Positive emotion  \n",
       "3                                   Negative emotion  \n",
       "4                                   Positive emotion  \n",
       "5                 No emotion toward brand or product  \n",
       "6                 No emotion toward brand or product  \n",
       "7                                   Positive emotion  \n",
       "8                                   Positive emotion  \n",
       "9                                   Positive emotion  "
      ]
     },
     "execution_count": 4,
     "metadata": {},
     "output_type": "execute_result"
    }
   ],
   "source": [
    "# Prep Data\n",
    "\n",
    "def cleanup(txt):\n",
    "    return fix_text(txt)\n",
    "    \n",
    "converters = {'tweet_text': cleanup}\n",
    "    \n",
    "raw_data = pd.read_csv(DATAFILE, converters=converters, encoding='unicode_escape')\n",
    "raw_data.head(10)"
   ]
  },
  {
   "cell_type": "code",
   "execution_count": 5,
   "metadata": {},
   "outputs": [
    {
     "data": {
      "text/html": [
       "<div>\n",
       "<style scoped>\n",
       "    .dataframe tbody tr th:only-of-type {\n",
       "        vertical-align: middle;\n",
       "    }\n",
       "\n",
       "    .dataframe tbody tr th {\n",
       "        vertical-align: top;\n",
       "    }\n",
       "\n",
       "    .dataframe thead th {\n",
       "        text-align: right;\n",
       "    }\n",
       "</style>\n",
       "<table border=\"1\" class=\"dataframe\">\n",
       "  <thead>\n",
       "    <tr style=\"text-align: right;\">\n",
       "      <th></th>\n",
       "      <th>tweet_text</th>\n",
       "      <th>text</th>\n",
       "      <th>company</th>\n",
       "      <th>emotion_in_tweet_is_directed_at</th>\n",
       "      <th>label</th>\n",
       "      <th>is_there_an_emotion_directed_at_a_brand_or_product</th>\n",
       "    </tr>\n",
       "  </thead>\n",
       "  <tbody>\n",
       "    <tr>\n",
       "      <th>0</th>\n",
       "      <td>.@wesley83 I have a 3G iPhone. After 3 hrs twe...</td>\n",
       "      <td>.@wesley83 I have a 3G iPhone. After 3 hrs twe...</td>\n",
       "      <td>Apple</td>\n",
       "      <td>iPhone</td>\n",
       "      <td>-1</td>\n",
       "      <td>Negative emotion</td>\n",
       "    </tr>\n",
       "    <tr>\n",
       "      <th>1</th>\n",
       "      <td>@jessedee Know about @fludapp ? Awesome iPad/i...</td>\n",
       "      <td>@jessedee Know about @fludapp ? Awesome iPad/i...</td>\n",
       "      <td>Apple</td>\n",
       "      <td>iPad or iPhone App</td>\n",
       "      <td>1</td>\n",
       "      <td>Positive emotion</td>\n",
       "    </tr>\n",
       "    <tr>\n",
       "      <th>2</th>\n",
       "      <td>@swonderlin Can not wait for #iPad 2 also. The...</td>\n",
       "      <td>@swonderlin Can not wait for #iPad 2 also. The...</td>\n",
       "      <td>Apple</td>\n",
       "      <td>iPad</td>\n",
       "      <td>1</td>\n",
       "      <td>Positive emotion</td>\n",
       "    </tr>\n",
       "    <tr>\n",
       "      <th>3</th>\n",
       "      <td>@sxsw I hope this year's festival isn't as cra...</td>\n",
       "      <td>@sxsw I hope this year's festival isn't as cra...</td>\n",
       "      <td>Apple</td>\n",
       "      <td>iPad or iPhone App</td>\n",
       "      <td>-1</td>\n",
       "      <td>Negative emotion</td>\n",
       "    </tr>\n",
       "    <tr>\n",
       "      <th>4</th>\n",
       "      <td>@sxtxstate great stuff on Fri #SXSW: Marissa M...</td>\n",
       "      <td>@sxtxstate great stuff on Fri #SXSW: Marissa M...</td>\n",
       "      <td>Google</td>\n",
       "      <td>Google</td>\n",
       "      <td>1</td>\n",
       "      <td>Positive emotion</td>\n",
       "    </tr>\n",
       "    <tr>\n",
       "      <th>5</th>\n",
       "      <td>@teachntech00 New iPad Apps For #SpeechTherapy...</td>\n",
       "      <td>@teachntech00 New iPad Apps For #SpeechTherapy...</td>\n",
       "      <td></td>\n",
       "      <td>NaN</td>\n",
       "      <td>0</td>\n",
       "      <td>No emotion toward brand or product</td>\n",
       "    </tr>\n",
       "    <tr>\n",
       "      <th>6</th>\n",
       "      <td></td>\n",
       "      <td></td>\n",
       "      <td></td>\n",
       "      <td>NaN</td>\n",
       "      <td>0</td>\n",
       "      <td>No emotion toward brand or product</td>\n",
       "    </tr>\n",
       "    <tr>\n",
       "      <th>7</th>\n",
       "      <td>#SXSW is just starting, #CTIA is around the co...</td>\n",
       "      <td>#SXSW is just starting, #CTIA is around the co...</td>\n",
       "      <td>Google</td>\n",
       "      <td>Android</td>\n",
       "      <td>1</td>\n",
       "      <td>Positive emotion</td>\n",
       "    </tr>\n",
       "    <tr>\n",
       "      <th>8</th>\n",
       "      <td>Beautifully smart and simple idea RT @madebyma...</td>\n",
       "      <td>Beautifully smart and simple idea RT @madebyma...</td>\n",
       "      <td>Apple</td>\n",
       "      <td>iPad or iPhone App</td>\n",
       "      <td>1</td>\n",
       "      <td>Positive emotion</td>\n",
       "    </tr>\n",
       "    <tr>\n",
       "      <th>9</th>\n",
       "      <td>Counting down the days to #sxsw plus strong Ca...</td>\n",
       "      <td>Counting down the days to #sxsw plus strong Ca...</td>\n",
       "      <td>Apple</td>\n",
       "      <td>Apple</td>\n",
       "      <td>1</td>\n",
       "      <td>Positive emotion</td>\n",
       "    </tr>\n",
       "  </tbody>\n",
       "</table>\n",
       "</div>"
      ],
      "text/plain": [
       "                                          tweet_text  \\\n",
       "0  .@wesley83 I have a 3G iPhone. After 3 hrs twe...   \n",
       "1  @jessedee Know about @fludapp ? Awesome iPad/i...   \n",
       "2  @swonderlin Can not wait for #iPad 2 also. The...   \n",
       "3  @sxsw I hope this year's festival isn't as cra...   \n",
       "4  @sxtxstate great stuff on Fri #SXSW: Marissa M...   \n",
       "5  @teachntech00 New iPad Apps For #SpeechTherapy...   \n",
       "6                                                      \n",
       "7  #SXSW is just starting, #CTIA is around the co...   \n",
       "8  Beautifully smart and simple idea RT @madebyma...   \n",
       "9  Counting down the days to #sxsw plus strong Ca...   \n",
       "\n",
       "                                                text company  \\\n",
       "0  .@wesley83 I have a 3G iPhone. After 3 hrs twe...   Apple   \n",
       "1  @jessedee Know about @fludapp ? Awesome iPad/i...   Apple   \n",
       "2  @swonderlin Can not wait for #iPad 2 also. The...   Apple   \n",
       "3  @sxsw I hope this year's festival isn't as cra...   Apple   \n",
       "4  @sxtxstate great stuff on Fri #SXSW: Marissa M...  Google   \n",
       "5  @teachntech00 New iPad Apps For #SpeechTherapy...           \n",
       "6                                                              \n",
       "7  #SXSW is just starting, #CTIA is around the co...  Google   \n",
       "8  Beautifully smart and simple idea RT @madebyma...   Apple   \n",
       "9  Counting down the days to #sxsw plus strong Ca...   Apple   \n",
       "\n",
       "  emotion_in_tweet_is_directed_at  label  \\\n",
       "0                          iPhone     -1   \n",
       "1              iPad or iPhone App      1   \n",
       "2                            iPad      1   \n",
       "3              iPad or iPhone App     -1   \n",
       "4                          Google      1   \n",
       "5                             NaN      0   \n",
       "6                             NaN      0   \n",
       "7                         Android      1   \n",
       "8              iPad or iPhone App      1   \n",
       "9                           Apple      1   \n",
       "\n",
       "  is_there_an_emotion_directed_at_a_brand_or_product  \n",
       "0                                   Negative emotion  \n",
       "1                                   Positive emotion  \n",
       "2                                   Positive emotion  \n",
       "3                                   Negative emotion  \n",
       "4                                   Positive emotion  \n",
       "5                 No emotion toward brand or product  \n",
       "6                 No emotion toward brand or product  \n",
       "7                                   Positive emotion  \n",
       "8                                   Positive emotion  \n",
       "9                                   Positive emotion  "
      ]
     },
     "execution_count": 5,
     "metadata": {},
     "output_type": "execute_result"
    }
   ],
   "source": [
    "## Transform columns\n",
    "## ONLY RUN THIS CELL ONCE!!!\n",
    "\n",
    "# Add columns to make the labels usable by the model\n",
    "# tweet_text => text\n",
    "# Positive / No emotion / Negative => 1, 0, -1\n",
    "# Product: Apple stuff, Google stuff, NaN => Apple, Google, ''\n",
    "\n",
    "def clean_text(txt):\n",
    "    return txt\n",
    "raw_data.insert(1, \"text\", np.vectorize(clean_text)(raw_data['tweet_text']))\n",
    "\n",
    "def create_labels(sentiment):\n",
    "    if sentiment.startswith('Positive'):\n",
    "        return 1\n",
    "    if sentiment.startswith('Negative'):\n",
    "        return -1\n",
    "    return 0\n",
    "raw_data.insert(3, 'label', np.vectorize(create_labels)(raw_data['is_there_an_emotion_directed_at_a_brand_or_product']))\n",
    "\n",
    "def get_company(product):\n",
    "    if pd.isnull(product):\n",
    "        return ''\n",
    "    if 'iPad' in product or 'iPhone' in product or 'Apple' in product:\n",
    "        return 'Apple'\n",
    "    if 'Google' in product or 'Android' in product:\n",
    "        return 'Google'\n",
    "    return ''\n",
    "raw_data.insert(2, 'company', np.vectorize(get_company)(raw_data['emotion_in_tweet_is_directed_at']))\n",
    "raw_data.head(10)"
   ]
  },
  {
   "cell_type": "code",
   "execution_count": 6,
   "metadata": {},
   "outputs": [],
   "source": [
    "# Last Data Preparation Step\n",
    "# Clean up characters and pull out columns of interest\n",
    "\n",
    "def clean(text):\n",
    "    text = re.sub(r'<.*?>', '', text)\n",
    "    text = re.sub(r\"\\\"\", \"\", text)       \n",
    "    return text\n",
    "\n",
    "data = raw_data.filter(['text', 'company', 'label'], axis=1)\n",
    "data['text'] = data['text'].transform(clean)"
   ]
  },
  {
   "cell_type": "code",
   "execution_count": 8,
   "metadata": {},
   "outputs": [
    {
     "name": "stdout",
     "output_type": "stream",
     "text": [
      "Training data size: (7274, 3)\n",
      "Test data size: (1819, 3)\n"
     ]
    }
   ],
   "source": [
    "# Split into training and test data\n",
    "\n",
    "msk = np.random.rand(len(data)) < 0.8\n",
    "train = data[msk]\n",
    "test = data[~msk]\n",
    "print('Training data size: ' + str(train.shape))\n",
    "print('Test data size: ' + str(test.shape))"
   ]
  },
  {
   "cell_type": "code",
   "execution_count": 9,
   "metadata": {},
   "outputs": [
    {
     "data": {
      "text/plain": [
       "array([['.@wesley83 I have a 3G iPhone. After 3 hrs tweeting at #RISE_Austin, it was dead!  I need to upgrade. Plugin stations at #SXSW.',\n",
       "        'Apple', -1]], dtype=object)"
      ]
     },
     "execution_count": 9,
     "metadata": {},
     "output_type": "execute_result"
    }
   ],
   "source": [
    "train[:1].values"
   ]
  },
  {
   "cell_type": "markdown",
   "metadata": {},
   "source": [
    "As you can see, each review is much longer than a sentence or two. The Google AI BERT models were trained on sequences of max length 512. Lets look at the performance for max_seq_length equal to  128, 256, and 512.\n",
    "\n",
    "### max_seq_length = 128"
   ]
  },
  {
   "cell_type": "code",
   "execution_count": 14,
   "metadata": {},
   "outputs": [
    {
     "name": "stdout",
     "output_type": "stream",
     "text": [
      "Train data size: 800 \n",
      "Test data size: 500 \n"
     ]
    }
   ],
   "source": [
    "## Set up data for the classifier\n",
    "\n",
    "train = train.sample(800)\n",
    "test = test.sample(500)\n",
    "\n",
    "print(\"Train data size: %d \"%(len(train)))\n",
    "print(\"Test data size: %d \"%(len(test)))\n",
    "\n",
    "X_train = train['text']\n",
    "y_train = train['label']\n",
    "\n",
    "X_test = test['text']\n",
    "y_test = test['label']"
   ]
  },
  {
   "cell_type": "code",
   "execution_count": 15,
   "metadata": {},
   "outputs": [
    {
     "name": "stdout",
     "output_type": "stream",
     "text": [
      "Building sklearn text classifier...\n",
      "BertClassifier(bert_config_json=None, bert_model='bert-base-uncased',\n",
      "               bert_vocab=None, do_lower_case=None, epochs=4, eval_batch_size=8,\n",
      "               fp16=False, from_tf=False, gradient_accumulation_steps=1,\n",
      "               ignore_label=None, label_list=[-1, 0, 1], learning_rate=2e-05,\n",
      "               local_rank=-1, logfile='bert_sklearn.log', loss_scale=0,\n",
      "               max_seq_length=128, num_mlp_hiddens=500, num_mlp_layers=0,\n",
      "               random_state=42, restore_file=None, train_batch_size=32,\n",
      "               use_cuda=True, validation_fraction=0.1, warmup_proportion=0.1)\n"
     ]
    }
   ],
   "source": [
    "## Create the model\n",
    "\n",
    "model = BertClassifier(bert_model='bert-base-uncased', label_list=[-1,0,1])\n",
    "model.max_seq_length = 128\n",
    "model.learning_rate = 2e-05\n",
    "model.epochs = 4\n",
    "\n",
    "print(model)\n"
   ]
  },
  {
   "cell_type": "code",
   "execution_count": null,
   "metadata": {},
   "outputs": [
    {
     "name": "stdout",
     "output_type": "stream",
     "text": [
      "Loading bert-base-uncased model...\n",
      "Defaulting to linear classifier/regressor\n",
      "Loading Pytorch checkpoint\n",
      "train data size: 720, validation data size: 80\n"
     ]
    },
    {
     "name": "stderr",
     "output_type": "stream",
     "text": [
      "\n",
      "Training  :   0%|          | 0/23 [00:00<?, ?it/s]\u001b[A\n",
      "Training  :   0%|          | 0/23 [00:54<?, ?it/s, loss=1.29]\u001b[A\n",
      "Training  :   4%|▍         | 1/23 [00:54<19:48, 54.02s/it, loss=1.29]\u001b[A\n",
      "Training  :   4%|▍         | 1/23 [01:47<19:48, 54.02s/it, loss=1.27]\u001b[A\n",
      "Training  :   9%|▊         | 2/23 [01:47<18:51, 53.90s/it, loss=1.27]\u001b[A\n",
      "Training  :   9%|▊         | 2/23 [02:39<18:51, 53.90s/it, loss=1.25]\u001b[A\n",
      "Training  :  13%|█▎        | 3/23 [02:39<17:43, 53.19s/it, loss=1.25]\u001b[A\n",
      "Training  :  13%|█▎        | 3/23 [03:26<17:43, 53.19s/it, loss=1.21]\u001b[A\n",
      "Training  :  17%|█▋        | 4/23 [03:26<16:17, 51.44s/it, loss=1.21]\u001b[A\n",
      "Training  :  17%|█▋        | 4/23 [04:21<16:17, 51.44s/it, loss=1.19]\u001b[A\n",
      "Training  :  22%|██▏       | 5/23 [04:21<15:45, 52.54s/it, loss=1.19]\u001b[A\n",
      "Training  :  22%|██▏       | 5/23 [05:13<15:45, 52.54s/it, loss=1.17]\u001b[A\n",
      "Training  :  26%|██▌       | 6/23 [05:13<14:49, 52.33s/it, loss=1.17]\u001b[A\n",
      "Training  :  26%|██▌       | 6/23 [06:01<14:49, 52.33s/it, loss=1.16]\u001b[A\n",
      "Training  :  30%|███       | 7/23 [06:01<13:35, 50.95s/it, loss=1.16]\u001b[A\n",
      "Training  :  30%|███       | 7/23 [06:54<13:35, 50.95s/it, loss=1.13]\u001b[A\n",
      "Training  :  35%|███▍      | 8/23 [06:54<12:56, 51.77s/it, loss=1.13]\u001b[A\n",
      "Training  :  35%|███▍      | 8/23 [07:43<12:56, 51.77s/it, loss=1.11]\u001b[A\n",
      "Training  :  39%|███▉      | 9/23 [07:43<11:49, 50.70s/it, loss=1.11]\u001b[A\n",
      "Training  :  39%|███▉      | 9/23 [08:34<11:49, 50.70s/it, loss=1.08]\u001b[A\n",
      "Training  :  43%|████▎     | 10/23 [08:34<11:02, 50.98s/it, loss=1.08]\u001b[A\n",
      "Training  :  43%|████▎     | 10/23 [09:25<11:02, 50.98s/it, loss=1.06]\u001b[A\n",
      "Training  :  48%|████▊     | 11/23 [09:25<10:09, 50.77s/it, loss=1.06]\u001b[A"
     ]
    }
   ],
   "source": [
    "%%time\n",
    "## Train the model using our data (this could take a while)\n",
    "\n",
    "model.fit(X_train, y_train)\n",
    "\n",
    "accy = model.score(X_test, y_test)"
   ]
  },
  {
   "cell_type": "code",
   "execution_count": 51,
   "metadata": {},
   "outputs": [
    {
     "name": "stderr",
     "output_type": "stream",
     "text": [
      "\n",
      "Predicting:   0%|          | 0/1 [00:00<?, ?it/s]\u001b[A\n",
      "Predicting: 100%|██████████| 1/1 [00:01<00:00,  1.95s/it]\u001b[A"
     ]
    },
    {
     "name": "stdout",
     "output_type": "stream",
     "text": [
      "[[0.21474382 0.08676378 0.6984924 ]\n",
      " [0.06963811 0.17175971 0.7586022 ]\n",
      " [0.05299675 0.7281567  0.21884665]\n",
      " [0.07872742 0.5267376  0.39453495]\n",
      " [0.04716099 0.6724587  0.2803803 ]]\n",
      "CPU times: user 3.5 s, sys: 330 ms, total: 3.83 s\n",
      "Wall time: 2.03 s\n"
     ]
    }
   ],
   "source": [
    "%%time\n",
    "## Test out the model with our own invented examples!\n",
    "\n",
    "examples = [\n",
    "    'This Android product is not very good',\n",
    "    'I could not get that iPhone to work, so I sent it back. I''m really upset!',\n",
    "    'Another great product from the folks at Google!  We really liked it a lot',\n",
    "    'My iPad is essential - of course I would buy another one!','\n",
    "    'When in the course of human events it becomes necessary to dissolve those ties...',\n",
    "    'We the people, in order to form a more perfect union, establish justice, insure domestic tranquility, ...'\n",
    "]\n",
    "\n",
    "print(model.predict_proba(examples))\n",
    "    "
   ]
  },
  {
   "cell_type": "code",
   "execution_count": 52,
   "metadata": {},
   "outputs": [],
   "source": [
    "model.save('models/model1_128_bb_uncased.mdl')"
   ]
  },
  {
   "cell_type": "markdown",
   "metadata": {},
   "source": [
    "### max_seq_length = 256"
   ]
  },
  {
   "cell_type": "code",
   "execution_count": null,
   "metadata": {
    "scrolled": true
   },
   "outputs": [],
   "source": [
    "%%time\n",
    "## Don't use this one - it will take a very long time!\n",
    "\n",
    "model = BertClassifier(bert_model='bert-base-cased', label_list=[-1,0,1])\n",
    "model.max_seq_length = 256\n",
    "model.train_batch_size = 32\n",
    "model.learning_rate = 2e-05\n",
    "model.epochs = 4\n",
    "\n",
    "print(model)\n",
    "\n",
    "model.fit(X_train, y_train)\n",
    "\n",
    "accy = model.score(X_test, y_test)"
   ]
  },
  {
   "cell_type": "markdown",
   "metadata": {},
   "source": [
    "### max_seq_length = 512"
   ]
  },
  {
   "cell_type": "code",
   "execution_count": null,
   "metadata": {},
   "outputs": [],
   "source": [
    "%%time\n",
    "## Don't use this one - it will take the longest of all!\n",
    "\n",
    "model = BertClassifier()\n",
    "model.max_seq_length = 512\n",
    "\n",
    "# max_seq_length=512 will use a lot more GPU mem, so I am turning down batch size \n",
    "# and adding gradient accumulation steps\n",
    "model.train_batch_size = 16\n",
    "model_gradient_accumulation_steps = 4\n",
    "\n",
    "model.learning_rate = 2e-05\n",
    "model.epochs = 4\n",
    "\n",
    "print(model)\n",
    "\n",
    "model.fit(X_train, y_train)\n",
    "\n",
    "accy = model.score(X_test, y_test)"
   ]
  }
 ],
 "metadata": {
  "kernelspec": {
   "display_name": "Python 3",
   "language": "python",
   "name": "python3"
  },
  "language_info": {
   "codemirror_mode": {
    "name": "ipython",
    "version": 3
   },
   "file_extension": ".py",
   "mimetype": "text/x-python",
   "name": "python",
   "nbconvert_exporter": "python",
   "pygments_lexer": "ipython3",
   "version": "3.7.3"
  }
 },
 "nbformat": 4,
 "nbformat_minor": 2
}
