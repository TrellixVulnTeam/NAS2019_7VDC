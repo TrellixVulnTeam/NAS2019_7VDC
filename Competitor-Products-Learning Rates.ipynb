{
 "cells": [
  {
   "cell_type": "markdown",
   "metadata": {},
   "source": [
    "## Product Sentiment Data - Learning Rates\n",
    "\n",
    "Data (public domain): https://data.world/crowdflower/brands-and-product-emotions\n",
    "\n",
    "Notebook code based on IMDB notebook from bert-sklearn/other_examples"
   ]
  },
  {
   "cell_type": "code",
   "execution_count": 9,
   "metadata": {},
   "outputs": [
    {
     "name": "stdout",
     "output_type": "stream",
     "text": [
      "/Users/joseph.porter/Data/nas2019/NAS2019\n"
     ]
    }
   ],
   "source": [
    "import numpy as np\n",
    "import pandas as pd\n",
    "import os\n",
    "import sys\n",
    "import csv\n",
    "import re\n",
    "from sklearn import metrics\n",
    "from sklearn.metrics import classification_report\n",
    "from sklearn.utils import shuffle\n",
    "from ftfy import fix_text\n",
    " \n",
    "from bert_sklearn import BertClassifier\n",
    "from bert_sklearn import load_model\n",
    "\n",
    "print(os.getcwd())\n",
    "\n",
    "DATAFILE = \"./data/judge-expanded2.csv\""
   ]
  },
  {
   "cell_type": "code",
   "execution_count": 10,
   "metadata": {},
   "outputs": [
    {
     "name": "stdout",
     "output_type": "stream",
     "text": [
      "8918\n",
      "8917\n"
     ]
    },
    {
     "data": {
      "text/html": [
       "<div>\n",
       "<style scoped>\n",
       "    .dataframe tbody tr th:only-of-type {\n",
       "        vertical-align: middle;\n",
       "    }\n",
       "\n",
       "    .dataframe tbody tr th {\n",
       "        vertical-align: top;\n",
       "    }\n",
       "\n",
       "    .dataframe thead th {\n",
       "        text-align: right;\n",
       "    }\n",
       "</style>\n",
       "<table border=\"1\" class=\"dataframe\">\n",
       "  <thead>\n",
       "    <tr style=\"text-align: right;\">\n",
       "      <th></th>\n",
       "      <th>text</th>\n",
       "      <th>company</th>\n",
       "      <th>label</th>\n",
       "    </tr>\n",
       "  </thead>\n",
       "  <tbody>\n",
       "    <tr>\n",
       "      <th>0</th>\n",
       "      <td>.@wesley83 I have a 3G iPhone. After 3 hrs twe...</td>\n",
       "      <td>Apple</td>\n",
       "      <td>-1</td>\n",
       "    </tr>\n",
       "    <tr>\n",
       "      <th>1</th>\n",
       "      <td>@jessedee Know about @fludapp ? Awesome iPad/i...</td>\n",
       "      <td>Apple</td>\n",
       "      <td>1</td>\n",
       "    </tr>\n",
       "    <tr>\n",
       "      <th>2</th>\n",
       "      <td>@swonderlin Can not wait for #iPad 2 also. The...</td>\n",
       "      <td>Apple</td>\n",
       "      <td>1</td>\n",
       "    </tr>\n",
       "    <tr>\n",
       "      <th>3</th>\n",
       "      <td>@sxsw I hope this year's festival isn't as cra...</td>\n",
       "      <td>Apple</td>\n",
       "      <td>-1</td>\n",
       "    </tr>\n",
       "    <tr>\n",
       "      <th>4</th>\n",
       "      <td>@sxtxstate great stuff on Fri #SXSW: Marissa M...</td>\n",
       "      <td>Google</td>\n",
       "      <td>1</td>\n",
       "    </tr>\n",
       "    <tr>\n",
       "      <th>6</th>\n",
       "      <td>#SXSW is just starting, #CTIA is around the co...</td>\n",
       "      <td>Google</td>\n",
       "      <td>1</td>\n",
       "    </tr>\n",
       "    <tr>\n",
       "      <th>7</th>\n",
       "      <td>Beautifully smart and simple idea RT @madebyma...</td>\n",
       "      <td>Apple</td>\n",
       "      <td>1</td>\n",
       "    </tr>\n",
       "    <tr>\n",
       "      <th>8</th>\n",
       "      <td>Counting down the days to #sxsw plus strong Ca...</td>\n",
       "      <td>Apple</td>\n",
       "      <td>1</td>\n",
       "    </tr>\n",
       "    <tr>\n",
       "      <th>9</th>\n",
       "      <td>Excited to meet the @samsungmobileus at #sxsw ...</td>\n",
       "      <td>Google</td>\n",
       "      <td>1</td>\n",
       "    </tr>\n",
       "    <tr>\n",
       "      <th>10</th>\n",
       "      <td>Find &amp; Start Impromptu Parties at #SXSW With @...</td>\n",
       "      <td>Google</td>\n",
       "      <td>1</td>\n",
       "    </tr>\n",
       "  </tbody>\n",
       "</table>\n",
       "</div>"
      ],
      "text/plain": [
       "                                                 text company  label\n",
       "0   .@wesley83 I have a 3G iPhone. After 3 hrs twe...   Apple     -1\n",
       "1   @jessedee Know about @fludapp ? Awesome iPad/i...   Apple      1\n",
       "2   @swonderlin Can not wait for #iPad 2 also. The...   Apple      1\n",
       "3   @sxsw I hope this year's festival isn't as cra...   Apple     -1\n",
       "4   @sxtxstate great stuff on Fri #SXSW: Marissa M...  Google      1\n",
       "6   #SXSW is just starting, #CTIA is around the co...  Google      1\n",
       "7   Beautifully smart and simple idea RT @madebyma...   Apple      1\n",
       "8   Counting down the days to #sxsw plus strong Ca...   Apple      1\n",
       "9   Excited to meet the @samsungmobileus at #sxsw ...  Google      1\n",
       "10  Find & Start Impromptu Parties at #SXSW With @...  Google      1"
      ]
     },
     "execution_count": 10,
     "metadata": {},
     "output_type": "execute_result"
    }
   ],
   "source": [
    "# Load Data\n",
    "\n",
    "    \n",
    "data = pd.read_csv(DATAFILE)\n",
    "print(len(data))\n",
    "data = data[data['text'].notnull()]\n",
    "print(len(data))\n",
    "data.head(10)"
   ]
  },
  {
   "cell_type": "code",
   "execution_count": 11,
   "metadata": {},
   "outputs": [
    {
     "name": "stdout",
     "output_type": "stream",
     "text": [
      "Training data size: (7167, 3)\n",
      "Test data size: (1750, 3)\n"
     ]
    }
   ],
   "source": [
    "# Split into training and test data\n",
    "\n",
    "msk = np.random.rand(len(data)) < 0.8\n",
    "train = data[msk]\n",
    "test = data[~msk]\n",
    "print('Training data size: ' + str(train.shape))\n",
    "print('Test data size: ' + str(test.shape))"
   ]
  },
  {
   "cell_type": "code",
   "execution_count": 12,
   "metadata": {},
   "outputs": [],
   "source": [
    "from collections import Counter\n",
    "\n",
    "def print_dist(dataset, label='label'):\n",
    "    \n",
    "    dist = Counter(dataset[label])\n",
    "    total = len(dataset)\n",
    "    for k,v in sorted(dist.items(), key=lambda x: x[0]):\n",
    "        pct = 100.0 * (float(v)/float(total))\n",
    "        print(f'{k}: {v} ({pct:5.2f}%)')\n",
    "    "
   ]
  },
  {
   "cell_type": "code",
   "execution_count": 13,
   "metadata": {},
   "outputs": [
    {
     "name": "stdout",
     "output_type": "stream",
     "text": [
      "Train dist:\n",
      "-1: 2381 (33.22%)\n",
      "0: 2384 (33.26%)\n",
      "1: 2402 (33.51%)\n",
      "None\n",
      "Test dist:\n",
      "-1: 589 (33.66%)\n",
      "0: 585 (33.43%)\n",
      "1: 576 (32.91%)\n",
      "None\n"
     ]
    }
   ],
   "source": [
    "print('Train dist:')\n",
    "print(print_dist(train))\n",
    "print('Test dist:')\n",
    "print(print_dist(test))"
   ]
  },
  {
   "cell_type": "code",
   "execution_count": 14,
   "metadata": {},
   "outputs": [
    {
     "data": {
      "text/plain": [
       "array([['.@wesley83 I have a 3G iPhone. After 3 hrs tweeting at #RISE_Austin, it was dead!  I need to upgrade. Plugin stations at #SXSW.',\n",
       "        'Apple', -1]], dtype=object)"
      ]
     },
     "execution_count": 14,
     "metadata": {},
     "output_type": "execute_result"
    }
   ],
   "source": [
    "train[:1].values"
   ]
  },
  {
   "cell_type": "markdown",
   "metadata": {},
   "source": [
    "As you can see, each review is much longer than a sentence or two. The Google AI BERT models were trained on sequences of max length 512. Lets look at the performance for max_seq_length equal to  128, 256, and 512.\n",
    "\n",
    "### max_seq_length = 128"
   ]
  },
  {
   "cell_type": "code",
   "execution_count": 15,
   "metadata": {},
   "outputs": [
    {
     "name": "stdout",
     "output_type": "stream",
     "text": [
      "Train data size: 1400 \n",
      "Test data size: 700 \n"
     ]
    }
   ],
   "source": [
    "## Set up data for the classifier\n",
    "\n",
    "train = train.sample(1400)\n",
    "test = test.sample(700)\n",
    "\n",
    "print(\"Train data size: %d \"%(len(train)))\n",
    "print(\"Test data size: %d \"%(len(test)))\n",
    "\n",
    "X_train = train['text']\n",
    "y_train = train['label']\n",
    "\n",
    "X_test = test['text']\n",
    "y_test = test['label']"
   ]
  },
  {
   "cell_type": "code",
   "execution_count": 16,
   "metadata": {},
   "outputs": [
    {
     "name": "stdout",
     "output_type": "stream",
     "text": [
      "Train dist:\n",
      "-1: 460 (32.86%)\n",
      "0: 449 (32.07%)\n",
      "1: 491 (35.07%)\n",
      "None\n",
      "Test dist:\n",
      "-1: 237 (33.86%)\n",
      "0: 224 (32.00%)\n",
      "1: 239 (34.14%)\n",
      "None\n"
     ]
    }
   ],
   "source": [
    "print('Train dist:')\n",
    "print(print_dist(train))\n",
    "print('Test dist:')\n",
    "print(print_dist(test))"
   ]
  },
  {
   "cell_type": "code",
   "execution_count": null,
   "metadata": {},
   "outputs": [],
   "source": []
  },
  {
   "cell_type": "code",
   "execution_count": 17,
   "metadata": {},
   "outputs": [
    {
     "name": "stdout",
     "output_type": "stream",
     "text": [
      "Building sklearn text classifier...\n",
      "BertClassifier(bert_config_json=None, bert_model='bert-base-uncased',\n",
      "               bert_vocab=None, do_lower_case=None, epochs=3, eval_batch_size=8,\n",
      "               fp16=False, from_tf=False, gradient_accumulation_steps=1,\n",
      "               ignore_label=None, label_list=[-1, 0, 1], learning_rate=2e-06,\n",
      "               local_rank=-1, logfile='bert_sklearn.log', loss_scale=0,\n",
      "               max_seq_length=128, num_mlp_hiddens=500, num_mlp_layers=0,\n",
      "               random_state=42, restore_file=None, train_batch_size=32,\n",
      "               use_cuda=True, validation_fraction=0.5, warmup_proportion=0.1)\n"
     ]
    }
   ],
   "source": [
    "## DECREASE THE LEARNING RATE 10X\n",
    "\n",
    "model = BertClassifier(bert_model='bert-base-uncased', label_list=[-1,0,1], validation_fraction=0.5)\n",
    "model.max_seq_length = 128\n",
    "model.learning_rate = 2e-06\n",
    "model.epochs = 3\n",
    "\n",
    "print(model)\n"
   ]
  },
  {
   "cell_type": "code",
   "execution_count": 18,
   "metadata": {
    "scrolled": true
   },
   "outputs": [
    {
     "name": "stdout",
     "output_type": "stream",
     "text": [
      "Loading bert-base-uncased model...\n",
      "Defaulting to linear classifier/regressor\n",
      "Loading Pytorch checkpoint\n",
      "train data size: 700, validation data size: 700\n"
     ]
    },
    {
     "name": "stderr",
     "output_type": "stream",
     "text": [
      "Training  : 100%|██████████| 22/22 [08:58<00:00, 24.47s/it, loss=1.08]\n",
      "Validating: 100%|██████████| 88/88 [02:23<00:00,  1.63s/it]"
     ]
    },
    {
     "name": "stdout",
     "output_type": "stream",
     "text": [
      "Epoch 1, Train loss: 1.0790, Val loss: 0.9657, Val accy: 59.57%\n"
     ]
    },
    {
     "name": "stderr",
     "output_type": "stream",
     "text": [
      "\n",
      "Training  : 100%|██████████| 22/22 [08:35<00:00, 23.42s/it, loss=0.942]\n",
      "Validating: 100%|██████████| 88/88 [02:17<00:00,  1.57s/it]"
     ]
    },
    {
     "name": "stdout",
     "output_type": "stream",
     "text": [
      "Epoch 2, Train loss: 0.9425, Val loss: 0.8823, Val accy: 64.86%\n"
     ]
    },
    {
     "name": "stderr",
     "output_type": "stream",
     "text": [
      "\n",
      "Training  : 100%|██████████| 22/22 [08:28<00:00, 23.10s/it, loss=0.867]\n",
      "Validating: 100%|██████████| 88/88 [02:17<00:00,  1.56s/it]"
     ]
    },
    {
     "name": "stdout",
     "output_type": "stream",
     "text": [
      "Epoch 3, Train loss: 0.8672, Val loss: 0.8498, Val accy: 66.00%\n"
     ]
    },
    {
     "name": "stderr",
     "output_type": "stream",
     "text": [
      "\n",
      "Testing: 100%|██████████| 88/88 [02:17<00:00,  1.57s/it]"
     ]
    },
    {
     "name": "stdout",
     "output_type": "stream",
     "text": [
      "\n",
      "Loss: 0.8809, Accuracy: 64.29%\n",
      "CPU times: user 1h 33min 14s, sys: 7min 35s, total: 1h 40min 49s\n",
      "Wall time: 35min 21s\n"
     ]
    },
    {
     "name": "stderr",
     "output_type": "stream",
     "text": [
      "\n"
     ]
    }
   ],
   "source": [
    "%%time\n",
    "## Train the model using our data (this could take a while)\n",
    "\n",
    "model.fit(X_train, y_train)\n",
    "\n",
    "accy = model.score(X_test, y_test)"
   ]
  },
  {
   "cell_type": "code",
   "execution_count": 19,
   "metadata": {},
   "outputs": [
    {
     "name": "stderr",
     "output_type": "stream",
     "text": [
      "Predicting: 100%|██████████| 88/88 [02:17<00:00,  1.57s/it]"
     ]
    },
    {
     "name": "stdout",
     "output_type": "stream",
     "text": [
      "              precision    recall  f1-score   support\n",
      "\n",
      "          -1       0.90      0.74      0.81       237\n",
      "           0       0.55      0.69      0.61       224\n",
      "           1       0.54      0.50      0.52       239\n",
      "\n",
      "    accuracy                           0.64       700\n",
      "   macro avg       0.66      0.64      0.65       700\n",
      "weighted avg       0.66      0.64      0.65       700\n",
      "\n"
     ]
    },
    {
     "name": "stderr",
     "output_type": "stream",
     "text": [
      "\n"
     ]
    }
   ],
   "source": [
    "## SNOOPING !!!\n",
    "\n",
    "y_pred = model.predict(X_test)\n",
    "report = classification_report(y_test, y_pred, labels=[-1,0,1])\n",
    "print(report)"
   ]
  },
  {
   "cell_type": "code",
   "execution_count": 20,
   "metadata": {},
   "outputs": [
    {
     "name": "stdout",
     "output_type": "stream",
     "text": [
      "Building sklearn text classifier...\n",
      "BertClassifier(bert_config_json=None, bert_model='bert-base-uncased',\n",
      "               bert_vocab=None, do_lower_case=True, epochs=3, eval_batch_size=8,\n",
      "               fp16=False, from_tf=False, gradient_accumulation_steps=1,\n",
      "               ignore_label=None, label_list=[-1, 0, 1], learning_rate=2e-06,\n",
      "               local_rank=-1, logfile='bert_sklearn.log', loss_scale=0,\n",
      "               max_seq_length=128, num_mlp_hiddens=500, num_mlp_layers=0,\n",
      "               random_state=42, restore_file=None, train_batch_size=32,\n",
      "               use_cuda=True, validation_fraction=0.5, warmup_proportion=0.1)\n"
     ]
    }
   ],
   "source": [
    "## INCREASE THE LEARNING RATE 10X\n",
    "\n",
    "model2 = BertClassifier(bert_model='bert-base-uncased', label_list=[-1,0,1], validation_fraction=0.5)\n",
    "model2.max_seq_length = 128\n",
    "model2.learning_rate = 2e-04\n",
    "model2.epochs = 3\n",
    "\n",
    "print(model)"
   ]
  },
  {
   "cell_type": "code",
   "execution_count": 21,
   "metadata": {},
   "outputs": [
    {
     "name": "stdout",
     "output_type": "stream",
     "text": [
      "Loading bert-base-uncased model...\n",
      "Defaulting to linear classifier/regressor\n",
      "Loading Pytorch checkpoint\n",
      "train data size: 700, validation data size: 700\n"
     ]
    },
    {
     "name": "stderr",
     "output_type": "stream",
     "text": [
      "Training  : 100%|██████████| 22/22 [08:35<00:00, 23.43s/it, loss=1.13]\n",
      "Validating: 100%|██████████| 88/88 [02:20<00:00,  1.60s/it]"
     ]
    },
    {
     "name": "stdout",
     "output_type": "stream",
     "text": [
      "Epoch 1, Train loss: 1.1251, Val loss: 1.1127, Val accy: 31.14%\n"
     ]
    },
    {
     "name": "stderr",
     "output_type": "stream",
     "text": [
      "\n",
      "Training  : 100%|██████████| 22/22 [08:35<00:00, 23.44s/it, loss=1.17]\n",
      "Validating: 100%|██████████| 88/88 [02:20<00:00,  1.59s/it]"
     ]
    },
    {
     "name": "stdout",
     "output_type": "stream",
     "text": [
      "Epoch 2, Train loss: 1.1650, Val loss: 1.1747, Val accy: 31.14%\n"
     ]
    },
    {
     "name": "stderr",
     "output_type": "stream",
     "text": [
      "\n",
      "Training  : 100%|██████████| 22/22 [08:37<00:00, 23.51s/it, loss=1.12]\n",
      "Validating: 100%|██████████| 88/88 [02:22<00:00,  1.61s/it]"
     ]
    },
    {
     "name": "stdout",
     "output_type": "stream",
     "text": [
      "Epoch 3, Train loss: 1.1179, Val loss: 1.1036, Val accy: 33.00%\n"
     ]
    },
    {
     "name": "stderr",
     "output_type": "stream",
     "text": [
      "\n",
      "Testing: 100%|██████████| 88/88 [02:27<00:00,  1.67s/it]"
     ]
    },
    {
     "name": "stdout",
     "output_type": "stream",
     "text": [
      "\n",
      "Loss: 1.1037, Accuracy: 32.00%\n",
      "CPU times: user 1h 32min 52s, sys: 7min 36s, total: 1h 40min 28s\n",
      "Wall time: 35min 22s\n"
     ]
    },
    {
     "name": "stderr",
     "output_type": "stream",
     "text": [
      "\n"
     ]
    }
   ],
   "source": [
    "%%time\n",
    "## Train the model using our data (this could take a while)\n",
    "\n",
    "model2.fit(X_train, y_train)\n",
    "\n",
    "accy2 = model2.score(X_test, y_test)"
   ]
  },
  {
   "cell_type": "code",
   "execution_count": 22,
   "metadata": {},
   "outputs": [
    {
     "name": "stderr",
     "output_type": "stream",
     "text": [
      "Predicting: 100%|██████████| 88/88 [02:22<00:00,  1.62s/it]"
     ]
    },
    {
     "name": "stdout",
     "output_type": "stream",
     "text": [
      "              precision    recall  f1-score   support\n",
      "\n",
      "          -1       0.00      0.00      0.00       237\n",
      "           0       0.32      1.00      0.48       224\n",
      "           1       0.00      0.00      0.00       239\n",
      "\n",
      "    accuracy                           0.32       700\n",
      "   macro avg       0.11      0.33      0.16       700\n",
      "weighted avg       0.10      0.32      0.16       700\n",
      "\n"
     ]
    },
    {
     "name": "stderr",
     "output_type": "stream",
     "text": [
      "\n",
      "/anaconda3/envs/bert/lib/python3.7/site-packages/sklearn/metrics/classification.py:1437: UndefinedMetricWarning: Precision and F-score are ill-defined and being set to 0.0 in labels with no predicted samples.\n",
      "  'precision', 'predicted', average, warn_for)\n"
     ]
    }
   ],
   "source": [
    "## SNOOPING !!!\n",
    "\n",
    "y_pred2 = model2.predict(X_test)\n",
    "report2 = classification_report(y_test, y_pred2, labels=[-1,0,1])\n",
    "print(report2)"
   ]
  },
  {
   "cell_type": "code",
   "execution_count": null,
   "metadata": {},
   "outputs": [],
   "source": []
  }
 ],
 "metadata": {
  "kernelspec": {
   "display_name": "Python 3",
   "language": "python",
   "name": "python3"
  },
  "language_info": {
   "codemirror_mode": {
    "name": "ipython",
    "version": 3
   },
   "file_extension": ".py",
   "mimetype": "text/x-python",
   "name": "python",
   "nbconvert_exporter": "python",
   "pygments_lexer": "ipython3",
   "version": "3.7.3"
  }
 },
 "nbformat": 4,
 "nbformat_minor": 2
}
