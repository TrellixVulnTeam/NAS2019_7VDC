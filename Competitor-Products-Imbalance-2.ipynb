{
 "cells": [
  {
   "cell_type": "markdown",
   "metadata": {},
   "source": [
    "## Product Sentiment Data - Imbalance 2\n",
    "\n",
    "Data (public domain): https://data.world/crowdflower/brands-and-product-emotions\n",
    "\n",
    "Notebook code based on IMDB notebook from bert-sklearn/other_examples"
   ]
  },
  {
   "cell_type": "code",
   "execution_count": 1,
   "metadata": {},
   "outputs": [
    {
     "name": "stdout",
     "output_type": "stream",
     "text": [
      "/Users/joseph.porter/Data/nas2019/NAS2019\n"
     ]
    }
   ],
   "source": [
    "import numpy as np\n",
    "import pandas as pd\n",
    "import os\n",
    "import sys\n",
    "import csv\n",
    "import re\n",
    "from sklearn import metrics\n",
    "from sklearn.metrics import classification_report\n",
    "from sklearn.utils import shuffle\n",
    "from ftfy import fix_text\n",
    " \n",
    "from bert_sklearn import BertClassifier\n",
    "from bert_sklearn import load_model\n",
    "\n",
    "print(os.getcwd())\n",
    "\n",
    "DATAFILE = \"./data/judge-expanded2.csv\""
   ]
  },
  {
   "cell_type": "code",
   "execution_count": 2,
   "metadata": {},
   "outputs": [
    {
     "name": "stdout",
     "output_type": "stream",
     "text": [
      "8918\n",
      "8917\n"
     ]
    },
    {
     "data": {
      "text/html": [
       "<div>\n",
       "<style scoped>\n",
       "    .dataframe tbody tr th:only-of-type {\n",
       "        vertical-align: middle;\n",
       "    }\n",
       "\n",
       "    .dataframe tbody tr th {\n",
       "        vertical-align: top;\n",
       "    }\n",
       "\n",
       "    .dataframe thead th {\n",
       "        text-align: right;\n",
       "    }\n",
       "</style>\n",
       "<table border=\"1\" class=\"dataframe\">\n",
       "  <thead>\n",
       "    <tr style=\"text-align: right;\">\n",
       "      <th></th>\n",
       "      <th>text</th>\n",
       "      <th>company</th>\n",
       "      <th>label</th>\n",
       "    </tr>\n",
       "  </thead>\n",
       "  <tbody>\n",
       "    <tr>\n",
       "      <th>0</th>\n",
       "      <td>.@wesley83 I have a 3G iPhone. After 3 hrs twe...</td>\n",
       "      <td>Apple</td>\n",
       "      <td>-1</td>\n",
       "    </tr>\n",
       "    <tr>\n",
       "      <th>1</th>\n",
       "      <td>@jessedee Know about @fludapp ? Awesome iPad/i...</td>\n",
       "      <td>Apple</td>\n",
       "      <td>1</td>\n",
       "    </tr>\n",
       "    <tr>\n",
       "      <th>2</th>\n",
       "      <td>@swonderlin Can not wait for #iPad 2 also. The...</td>\n",
       "      <td>Apple</td>\n",
       "      <td>1</td>\n",
       "    </tr>\n",
       "    <tr>\n",
       "      <th>3</th>\n",
       "      <td>@sxsw I hope this year's festival isn't as cra...</td>\n",
       "      <td>Apple</td>\n",
       "      <td>-1</td>\n",
       "    </tr>\n",
       "    <tr>\n",
       "      <th>4</th>\n",
       "      <td>@sxtxstate great stuff on Fri #SXSW: Marissa M...</td>\n",
       "      <td>Google</td>\n",
       "      <td>1</td>\n",
       "    </tr>\n",
       "    <tr>\n",
       "      <th>6</th>\n",
       "      <td>#SXSW is just starting, #CTIA is around the co...</td>\n",
       "      <td>Google</td>\n",
       "      <td>1</td>\n",
       "    </tr>\n",
       "    <tr>\n",
       "      <th>7</th>\n",
       "      <td>Beautifully smart and simple idea RT @madebyma...</td>\n",
       "      <td>Apple</td>\n",
       "      <td>1</td>\n",
       "    </tr>\n",
       "    <tr>\n",
       "      <th>8</th>\n",
       "      <td>Counting down the days to #sxsw plus strong Ca...</td>\n",
       "      <td>Apple</td>\n",
       "      <td>1</td>\n",
       "    </tr>\n",
       "    <tr>\n",
       "      <th>9</th>\n",
       "      <td>Excited to meet the @samsungmobileus at #sxsw ...</td>\n",
       "      <td>Google</td>\n",
       "      <td>1</td>\n",
       "    </tr>\n",
       "    <tr>\n",
       "      <th>10</th>\n",
       "      <td>Find &amp; Start Impromptu Parties at #SXSW With @...</td>\n",
       "      <td>Google</td>\n",
       "      <td>1</td>\n",
       "    </tr>\n",
       "  </tbody>\n",
       "</table>\n",
       "</div>"
      ],
      "text/plain": [
       "                                                 text company  label\n",
       "0   .@wesley83 I have a 3G iPhone. After 3 hrs twe...   Apple     -1\n",
       "1   @jessedee Know about @fludapp ? Awesome iPad/i...   Apple      1\n",
       "2   @swonderlin Can not wait for #iPad 2 also. The...   Apple      1\n",
       "3   @sxsw I hope this year's festival isn't as cra...   Apple     -1\n",
       "4   @sxtxstate great stuff on Fri #SXSW: Marissa M...  Google      1\n",
       "6   #SXSW is just starting, #CTIA is around the co...  Google      1\n",
       "7   Beautifully smart and simple idea RT @madebyma...   Apple      1\n",
       "8   Counting down the days to #sxsw plus strong Ca...   Apple      1\n",
       "9   Excited to meet the @samsungmobileus at #sxsw ...  Google      1\n",
       "10  Find & Start Impromptu Parties at #SXSW With @...  Google      1"
      ]
     },
     "execution_count": 2,
     "metadata": {},
     "output_type": "execute_result"
    }
   ],
   "source": [
    "# Load Data\n",
    "\n",
    "    \n",
    "data = pd.read_csv(DATAFILE)\n",
    "print(len(data))\n",
    "data = data[data['text'].notnull()]\n",
    "print(len(data))\n",
    "data.head(10)"
   ]
  },
  {
   "cell_type": "code",
   "execution_count": 3,
   "metadata": {},
   "outputs": [
    {
     "name": "stdout",
     "output_type": "stream",
     "text": [
      "Training data size: (7138, 3)\n",
      "Test data size: (1779, 3)\n"
     ]
    }
   ],
   "source": [
    "# Split into training and test data\n",
    "\n",
    "msk = np.random.rand(len(data)) < 0.8\n",
    "train = data[msk]\n",
    "test = data[~msk]\n",
    "print('Training data size: ' + str(train.shape))\n",
    "print('Test data size: ' + str(test.shape))"
   ]
  },
  {
   "cell_type": "code",
   "execution_count": 4,
   "metadata": {},
   "outputs": [],
   "source": [
    "from collections import Counter\n",
    "\n",
    "def print_dist(dataset, label='label'):\n",
    "    \n",
    "    dist = Counter(dataset[label])\n",
    "    total = len(dataset)\n",
    "    for k,v in sorted(dist.items(), key=lambda x: x[0]):\n",
    "        pct = 100.0 * (float(v)/float(total))\n",
    "        print(f'{k}: {v} ({pct:5.2f}%)')\n",
    "    "
   ]
  },
  {
   "cell_type": "code",
   "execution_count": 5,
   "metadata": {},
   "outputs": [
    {
     "name": "stdout",
     "output_type": "stream",
     "text": [
      "Train dist:\n",
      "-1: 2388 (33.45%)\n",
      "0: 2379 (33.33%)\n",
      "1: 2371 (33.22%)\n",
      "None\n",
      "Test dist:\n",
      "-1: 582 (32.72%)\n",
      "0: 590 (33.16%)\n",
      "1: 607 (34.12%)\n",
      "None\n"
     ]
    }
   ],
   "source": [
    "print('Train dist:')\n",
    "print(print_dist(train))\n",
    "print('Test dist:')\n",
    "print(print_dist(test))"
   ]
  },
  {
   "cell_type": "code",
   "execution_count": 6,
   "metadata": {},
   "outputs": [
    {
     "data": {
      "text/plain": [
       "array([[\"@jessedee Know about @fludapp ? Awesome iPad/iPhone app that you'll likely appreciate for its design. Also, they're giving free Ts at #SXSW\",\n",
       "        'Apple', 1]], dtype=object)"
      ]
     },
     "execution_count": 6,
     "metadata": {},
     "output_type": "execute_result"
    }
   ],
   "source": [
    "train[:1].values"
   ]
  },
  {
   "cell_type": "markdown",
   "metadata": {},
   "source": [
    "As you can see, each review is much longer than a sentence or two. The Google AI BERT models were trained on sequences of max length 512. Lets look at the performance for max_seq_length equal to  128, 256, and 512.\n",
    "\n",
    "### max_seq_length = 128"
   ]
  },
  {
   "cell_type": "code",
   "execution_count": 7,
   "metadata": {},
   "outputs": [
    {
     "name": "stdout",
     "output_type": "stream",
     "text": [
      "Train data size: 1400 \n",
      "Test data size: 700 \n"
     ]
    }
   ],
   "source": [
    "## Set up data for the classifier\n",
    "\n",
    "train = train.sample(1400)\n",
    "test = test.sample(700)\n",
    "\n",
    "print(\"Train data size: %d \"%(len(train)))\n",
    "print(\"Test data size: %d \"%(len(test)))\n",
    "\n",
    "X_train = train['text']\n",
    "y_train = train['label']\n",
    "\n",
    "X_test = test['text']\n",
    "y_test = test['label']"
   ]
  },
  {
   "cell_type": "code",
   "execution_count": 8,
   "metadata": {},
   "outputs": [
    {
     "name": "stdout",
     "output_type": "stream",
     "text": [
      "Train dist:\n",
      "-1: 460 (32.86%)\n",
      "0: 462 (33.00%)\n",
      "1: 478 (34.14%)\n",
      "None\n",
      "Test dist:\n",
      "-1: 253 (36.14%)\n",
      "0: 218 (31.14%)\n",
      "1: 229 (32.71%)\n",
      "None\n"
     ]
    }
   ],
   "source": [
    "print('Train dist:')\n",
    "print(print_dist(train))\n",
    "print('Test dist:')\n",
    "print(print_dist(test))"
   ]
  },
  {
   "cell_type": "code",
   "execution_count": null,
   "metadata": {},
   "outputs": [],
   "source": []
  },
  {
   "cell_type": "code",
   "execution_count": 9,
   "metadata": {},
   "outputs": [
    {
     "name": "stdout",
     "output_type": "stream",
     "text": [
      "Building sklearn text classifier...\n",
      "BertClassifier(bert_config_json=None, bert_model='bert-base-uncased',\n",
      "               bert_vocab=None, do_lower_case=None, epochs=4, eval_batch_size=8,\n",
      "               fp16=False, from_tf=False, gradient_accumulation_steps=1,\n",
      "               ignore_label=None, label_list=[-1, 0, 1], learning_rate=2e-05,\n",
      "               local_rank=-1, logfile='bert_sklearn.log', loss_scale=0,\n",
      "               max_seq_length=128, num_mlp_hiddens=500, num_mlp_layers=0,\n",
      "               random_state=42, restore_file=None, train_batch_size=32,\n",
      "               use_cuda=True, validation_fraction=0.5, warmup_proportion=0.1)\n"
     ]
    }
   ],
   "source": [
    "## Create the model\n",
    "\n",
    "model = BertClassifier(bert_model='bert-base-uncased', label_list=[-1,0,1], validation_fraction=0.5)\n",
    "model.max_seq_length = 128\n",
    "model.learning_rate = 2e-05\n",
    "model.epochs = 4\n",
    "\n",
    "print(model)\n"
   ]
  },
  {
   "cell_type": "code",
   "execution_count": 10,
   "metadata": {
    "scrolled": true
   },
   "outputs": [
    {
     "name": "stdout",
     "output_type": "stream",
     "text": [
      "Loading bert-base-uncased model...\n",
      "Defaulting to linear classifier/regressor\n",
      "Loading Pytorch checkpoint\n",
      "train data size: 700, validation data size: 700\n"
     ]
    },
    {
     "name": "stderr",
     "output_type": "stream",
     "text": [
      "Training  : 100%|██████████| 22/22 [08:56<00:00, 24.40s/it, loss=0.931]\n",
      "Validating: 100%|██████████| 88/88 [02:28<00:00,  1.68s/it]"
     ]
    },
    {
     "name": "stdout",
     "output_type": "stream",
     "text": [
      "Epoch 1, Train loss: 0.9310, Val loss: 0.8605, Val accy: 56.29%\n"
     ]
    },
    {
     "name": "stderr",
     "output_type": "stream",
     "text": [
      "\n",
      "Training  : 100%|██████████| 22/22 [09:02<00:00, 24.67s/it, loss=0.687]\n",
      "Validating: 100%|██████████| 88/88 [02:30<00:00,  1.71s/it]"
     ]
    },
    {
     "name": "stdout",
     "output_type": "stream",
     "text": [
      "Epoch 2, Train loss: 0.6868, Val loss: 0.6790, Val accy: 62.71%\n"
     ]
    },
    {
     "name": "stderr",
     "output_type": "stream",
     "text": [
      "\n",
      "Training  : 100%|██████████| 22/22 [08:55<00:00, 24.35s/it, loss=0.584]\n",
      "Validating: 100%|██████████| 88/88 [02:31<00:00,  1.73s/it]"
     ]
    },
    {
     "name": "stdout",
     "output_type": "stream",
     "text": [
      "Epoch 3, Train loss: 0.5842, Val loss: 0.6348, Val accy: 70.43%\n"
     ]
    },
    {
     "name": "stderr",
     "output_type": "stream",
     "text": [
      "\n",
      "Training  : 100%|██████████| 22/22 [08:57<00:00, 24.45s/it, loss=0.509]\n",
      "Validating: 100%|██████████| 88/88 [02:23<00:00,  1.63s/it]"
     ]
    },
    {
     "name": "stdout",
     "output_type": "stream",
     "text": [
      "Epoch 4, Train loss: 0.5088, Val loss: 0.5916, Val accy: 71.43%\n"
     ]
    },
    {
     "name": "stderr",
     "output_type": "stream",
     "text": [
      "\n",
      "Testing: 100%|██████████| 88/88 [02:27<00:00,  1.68s/it]"
     ]
    },
    {
     "name": "stdout",
     "output_type": "stream",
     "text": [
      "\n",
      "Loss: 0.5943, Accuracy: 71.86%\n",
      "CPU times: user 2h 4min 31s, sys: 10min 27s, total: 2h 14min 58s\n",
      "Wall time: 48min 19s\n"
     ]
    },
    {
     "name": "stderr",
     "output_type": "stream",
     "text": [
      "\n"
     ]
    }
   ],
   "source": [
    "%%time\n",
    "## Train the model using our data (this could take a while)\n",
    "\n",
    "model.fit(X_train, y_train)\n",
    "\n",
    "accy = model.score(X_test, y_test)"
   ]
  },
  {
   "cell_type": "code",
   "execution_count": 11,
   "metadata": {},
   "outputs": [
    {
     "name": "stderr",
     "output_type": "stream",
     "text": [
      "Predicting: 100%|██████████| 88/88 [02:25<00:00,  1.65s/it]"
     ]
    },
    {
     "name": "stdout",
     "output_type": "stream",
     "text": [
      "              precision    recall  f1-score   support\n",
      "\n",
      "          -1       0.93      0.85      0.89       253\n",
      "           0       0.63      0.64      0.63       218\n",
      "           1       0.60      0.65      0.62       229\n",
      "\n",
      "    accuracy                           0.72       700\n",
      "   macro avg       0.72      0.71      0.72       700\n",
      "weighted avg       0.73      0.72      0.72       700\n",
      "\n"
     ]
    },
    {
     "name": "stderr",
     "output_type": "stream",
     "text": [
      "\n"
     ]
    }
   ],
   "source": [
    "## SNOOPING !!!\n",
    "\n",
    "y_pred = model.predict(X_test)\n",
    "report = classification_report(y_test, y_pred, labels=[-1,0,1])\n",
    "print(report)"
   ]
  },
  {
   "cell_type": "code",
   "execution_count": 12,
   "metadata": {},
   "outputs": [
    {
     "name": "stdout",
     "output_type": "stream",
     "text": [
      "train data size: 700, validation data size: 700\n"
     ]
    },
    {
     "name": "stderr",
     "output_type": "stream",
     "text": [
      "Training  : 100%|██████████| 22/22 [09:04<00:00, 24.75s/it, loss=0.615]\n",
      "Validating: 100%|██████████| 88/88 [02:30<00:00,  1.71s/it]"
     ]
    },
    {
     "name": "stdout",
     "output_type": "stream",
     "text": [
      "Epoch 1, Train loss: 0.6152, Val loss: 0.5757, Val accy: 74.00%\n"
     ]
    },
    {
     "name": "stderr",
     "output_type": "stream",
     "text": [
      "\n",
      "Training  : 100%|██████████| 22/22 [08:55<00:00, 24.32s/it, loss=0.391]\n",
      "Validating: 100%|██████████| 88/88 [02:23<00:00,  1.63s/it]"
     ]
    },
    {
     "name": "stdout",
     "output_type": "stream",
     "text": [
      "Epoch 2, Train loss: 0.3912, Val loss: 0.5940, Val accy: 75.29%\n"
     ]
    },
    {
     "name": "stderr",
     "output_type": "stream",
     "text": [
      "\n",
      "Testing: 100%|██████████| 88/88 [02:20<00:00,  1.59s/it]"
     ]
    },
    {
     "name": "stdout",
     "output_type": "stream",
     "text": [
      "\n",
      "Loss: 0.6589, Accuracy: 73.71%\n"
     ]
    },
    {
     "name": "stderr",
     "output_type": "stream",
     "text": [
      "\n"
     ]
    }
   ],
   "source": [
    "model.epochs = 2\n",
    "model.fit(X_train, y_train, load_at_start=False)\n",
    "accy2 = model.score(X_test, y_test)"
   ]
  },
  {
   "cell_type": "code",
   "execution_count": 13,
   "metadata": {
    "scrolled": true
   },
   "outputs": [
    {
     "name": "stderr",
     "output_type": "stream",
     "text": [
      "Predicting: 100%|██████████| 88/88 [02:27<00:00,  1.68s/it]"
     ]
    },
    {
     "name": "stdout",
     "output_type": "stream",
     "text": [
      "              precision    recall  f1-score   support\n",
      "\n",
      "          -1       0.90      0.90      0.90       253\n",
      "           0       0.65      0.57      0.61       218\n",
      "           1       0.64      0.72      0.68       229\n",
      "\n",
      "    accuracy                           0.74       700\n",
      "   macro avg       0.73      0.73      0.73       700\n",
      "weighted avg       0.74      0.74      0.74       700\n",
      "\n"
     ]
    },
    {
     "name": "stderr",
     "output_type": "stream",
     "text": [
      "\n"
     ]
    }
   ],
   "source": [
    "## SNOOPING !!!\n",
    "\n",
    "y_pred = model.predict(X_test)\n",
    "report = classification_report(y_test, y_pred, labels=[-1,0,1])\n",
    "print(report)"
   ]
  },
  {
   "cell_type": "code",
   "execution_count": 52,
   "metadata": {},
   "outputs": [],
   "source": [
    "model.save('models/model1_128_bb_uncased.mdl')"
   ]
  },
  {
   "cell_type": "markdown",
   "metadata": {},
   "source": [
    "### max_seq_length = 256"
   ]
  },
  {
   "cell_type": "code",
   "execution_count": null,
   "metadata": {
    "scrolled": true
   },
   "outputs": [],
   "source": [
    "%%time\n",
    "## Don't use this one - it will take a very long time!\n",
    "\n",
    "model = BertClassifier(bert_model='bert-base-uncased', label_list=[-1,0,1])\n",
    "model.max_seq_length = 256\n",
    "model.train_batch_size = 32\n",
    "model.learning_rate = 2e-05\n",
    "model.epochs = 4\n",
    "\n",
    "print(model)\n",
    "\n",
    "model.fit(X_train, y_train)\n",
    "\n",
    "accy = model.score(X_test, y_test)"
   ]
  },
  {
   "cell_type": "markdown",
   "metadata": {},
   "source": [
    "### max_seq_length = 512"
   ]
  },
  {
   "cell_type": "code",
   "execution_count": null,
   "metadata": {},
   "outputs": [],
   "source": [
    "%%time\n",
    "## Don't use this one - it will take the longest of all!\n",
    "\n",
    "model = BertClassifier(bert_model='bert-base-uncased', label_list=[-1,0,1])\n",
    "model.max_seq_length = 512\n",
    "\n",
    "# max_seq_length=512 will use a lot more GPU mem, so I am turning down batch size \n",
    "# and adding gradient accumulation steps\n",
    "model.train_batch_size = 16\n",
    "model_gradient_accumulation_steps = 4\n",
    "\n",
    "model.learning_rate = 2e-05\n",
    "model.epochs = 4\n",
    "\n",
    "print(model)\n",
    "\n",
    "model.fit(X_train, y_train)\n",
    "\n",
    "accy = model.score(X_test, y_test)"
   ]
  }
 ],
 "metadata": {
  "kernelspec": {
   "display_name": "Python 3",
   "language": "python",
   "name": "python3"
  },
  "language_info": {
   "codemirror_mode": {
    "name": "ipython",
    "version": 3
   },
   "file_extension": ".py",
   "mimetype": "text/x-python",
   "name": "python",
   "nbconvert_exporter": "python",
   "pygments_lexer": "ipython3",
   "version": "3.7.3"
  }
 },
 "nbformat": 4,
 "nbformat_minor": 2
}
